{
  "cells": [
    {
      "cell_type": "markdown",
      "metadata": {
        "id": "view-in-github"
      },
      "source": [
        "<a href=\"https://colab.research.google.com/github/lucia990/ADM_GROUP-30_HW_4/blob/main/main.ipynb\" target=\"_parent\"><img src=\"https://colab.research.google.com/assets/colab-badge.svg\" alt=\"Open In Colab\"/></a>"
      ]
    },
    {
      "cell_type": "markdown",
      "metadata": {
        "id": "bn1SBY7yrePE"
      },
      "source": [
        "###Data import"
      ]
    },
    {
      "cell_type": "code",
      "execution_count": null,
      "metadata": {
        "id": "gm_ooIKYR92Z",
        "colab": {
          "base_uri": "https://localhost:8080/"
        },
        "outputId": "c50c6cbe-ddca-411e-994e-7601134b71c3"
      },
      "outputs": [
        {
          "output_type": "stream",
          "name": "stdout",
          "text": [
            "Drive already mounted at /content/drive; to attempt to forcibly remount, call drive.mount(\"/content/drive\", force_remount=True).\n"
          ]
        }
      ],
      "source": [
        "from google.colab import drive\n",
        "drive.mount('/content/drive')"
      ]
    },
    {
      "cell_type": "code",
      "execution_count": null,
      "metadata": {
        "id": "t_kAfwtZjfJh"
      },
      "outputs": [],
      "source": [
        "import os\n",
        "os.chdir('/content/drive/MyDrive/ADM_HW_4')"
      ]
    },
    {
      "cell_type": "code",
      "execution_count": null,
      "metadata": {
        "id": "7X4hRnzbjxyk",
        "colab": {
          "base_uri": "https://localhost:8080/"
        },
        "outputId": "b1e6ec6a-d4b3-444e-89e2-2a1a6e709fb7"
      },
      "outputs": [
        {
          "output_type": "stream",
          "name": "stdout",
          "text": [
            "/content/drive/MyDrive/ADM_HW_4\n"
          ]
        }
      ],
      "source": [
        "!pwd"
      ]
    },
    {
      "cell_type": "code",
      "execution_count": null,
      "metadata": {
        "colab": {
          "base_uri": "https://localhost:8080/"
        },
        "id": "7Fm9VikojEfY",
        "outputId": "a7eb9116-e520-43d6-d12a-3b95122355e1"
      },
      "outputs": [
        {
          "name": "stdout",
          "output_type": "stream",
          "text": [
            "Traceback (most recent call last):\n",
            "  File \"/usr/local/bin/kaggle\", line 5, in <module>\n",
            "    from kaggle.cli import main\n",
            "  File \"/usr/local/lib/python3.8/dist-packages/kaggle/__init__.py\", line 23, in <module>\n",
            "    api.authenticate()\n",
            "  File \"/usr/local/lib/python3.8/dist-packages/kaggle/api/kaggle_api_extended.py\", line 164, in authenticate\n",
            "    raise IOError('Could not find {}. Make sure it\\'s located in'\n",
            "OSError: Could not find kaggle.json. Make sure it's located in /root/.kaggle. Or use the environment method.\n"
          ]
        }
      ],
      "source": [
        "!kaggle datasets download -d shivamb/bank-customer-segmentation"
      ]
    },
    {
      "cell_type": "code",
      "execution_count": null,
      "metadata": {
        "colab": {
          "base_uri": "https://localhost:8080/"
        },
        "id": "3OXwBiYojOLD",
        "outputId": "ec65f217-26bc-48c3-8d45-e877c3c670c3"
      },
      "outputs": [
        {
          "name": "stdout",
          "output_type": "stream",
          "text": [
            "Archive:  bank-customer-segmentation.zip\n",
            "  inflating: bank_transactions.csv   \n"
          ]
        }
      ],
      "source": [
        "!unzip bank-customer-segmentation.zip"
      ]
    },
    {
      "cell_type": "markdown",
      "metadata": {
        "id": "4rLOICi6rkzb"
      },
      "source": [
        "###Inspect the dataset"
      ]
    },
    {
      "cell_type": "code",
      "execution_count": null,
      "metadata": {
        "id": "7rB3mbVojRQK"
      },
      "outputs": [],
      "source": [
        "#create the dataframe\n",
        "import pandas as pd\n",
        "data = pd.read_csv('bank_transactions.csv', usecols = ['CustomerID', 'CustomerDOB','CustGender',\t'CustLocation',\t'CustAccountBalance', 'TransactionDate', 'TransactionTime',\t'TransactionAmount (INR)'])\n",
        "#drop the columns containing transaction and customer IDs since they are not useful information for similarity detection "
      ]
    },
    {
      "cell_type": "code",
      "execution_count": null,
      "metadata": {
        "id": "2VvEDeFWj598"
      },
      "outputs": [],
      "source": [
        "#group by the customer id. For each of them we pick the last transaction\n",
        "customer_data = data.groupby('CustomerID').last()\n",
        "customer_data.reset_index(drop = True, inplace = True)"
      ]
    },
    {
      "cell_type": "code",
      "execution_count": null,
      "metadata": {
        "colab": {
          "base_uri": "https://localhost:8080/"
        },
        "id": "ivdfxmh-j7Eh",
        "outputId": "b83c0feb-f7a4-499e-faaa-e82218f57ce6"
      },
      "outputs": [
        {
          "data": {
            "text/plain": [
              "CustomerDOB                2372\n",
              "CustGender                  803\n",
              "CustLocation                114\n",
              "CustAccountBalance         1665\n",
              "TransactionDate               0\n",
              "TransactionTime               0\n",
              "TransactionAmount (INR)       0\n",
              "dtype: int64"
            ]
          },
          "execution_count": 20,
          "metadata": {},
          "output_type": "execute_result"
        }
      ],
      "source": [
        "#check how many missing values there are in the dataset\n",
        "customer_data.isna().sum()"
      ]
    },
    {
      "cell_type": "code",
      "execution_count": null,
      "metadata": {
        "id": "TymgE_sCZw1T"
      },
      "outputs": [],
      "source": [
        "customer_data.dropna(inplace= True)\n",
        "customer_data.reset_index(drop = True, inplace = True)"
      ]
    },
    {
      "cell_type": "code",
      "execution_count": null,
      "metadata": {
        "colab": {
          "base_uri": "https://localhost:8080/"
        },
        "id": "j8ralHWTowU0",
        "outputId": "1791d3ba-52d0-4fc9-a73c-e0fc8a63d97b"
      },
      "outputs": [
        {
          "data": {
            "text/plain": [
              "CustomerDOB                0\n",
              "CustGender                 0\n",
              "CustLocation               0\n",
              "CustAccountBalance         0\n",
              "TransactionDate            0\n",
              "TransactionTime            0\n",
              "TransactionAmount (INR)    0\n",
              "dtype: int64"
            ]
          },
          "execution_count": 22,
          "metadata": {},
          "output_type": "execute_result"
        }
      ],
      "source": [
        "customer_data.isna().sum()"
      ]
    },
    {
      "cell_type": "markdown",
      "metadata": {
        "id": "QWcG0VR61L86"
      },
      "source": [
        "#### Transaction Date"
      ]
    },
    {
      "cell_type": "code",
      "execution_count": null,
      "metadata": {
        "id": "JusgdPue1Ocf"
      },
      "outputs": [],
      "source": [
        "#we want the date to be of datetime type\n",
        "customer_data['TransactionDate'] = pd.to_datetime(customer_data.TransactionDate)"
      ]
    },
    {
      "cell_type": "code",
      "execution_count": null,
      "metadata": {
        "colab": {
          "base_uri": "https://localhost:8080/"
        },
        "id": "vn9KvgHM1Y5B",
        "outputId": "cb2b7839-916b-471e-dd88-117f5c95f186"
      },
      "outputs": [
        {
          "data": {
            "text/plain": [
              "0        2016-09-08\n",
              "1        2016-08-14\n",
              "2        2016-07-08\n",
              "3        2016-09-15\n",
              "4        2016-08-18\n",
              "            ...    \n",
              "879354   2016-07-08\n",
              "879355   2016-09-15\n",
              "879356   2016-08-18\n",
              "879357   2016-08-28\n",
              "879358   2016-09-25\n",
              "Name: TransactionDate, Length: 879359, dtype: datetime64[ns]"
            ]
          },
          "execution_count": 24,
          "metadata": {},
          "output_type": "execute_result"
        }
      ],
      "source": [
        "customer_data.TransactionDate"
      ]
    },
    {
      "cell_type": "code",
      "execution_count": null,
      "metadata": {
        "colab": {
          "base_uri": "https://localhost:8080/"
        },
        "id": "HFcARKS41hHX",
        "outputId": "1e5b3eb1-9528-43cb-b6a1-e567f219016d"
      },
      "outputs": [
        {
          "data": {
            "text/plain": [
              "2016    879359\n",
              "Name: TransactionDate, dtype: int64"
            ]
          },
          "execution_count": 25,
          "metadata": {},
          "output_type": "execute_result"
        }
      ],
      "source": [
        "customer_data.TransactionDate.dt.year.value_counts()"
      ]
    },
    {
      "cell_type": "markdown",
      "metadata": {
        "id": "ckdaShus1l6m"
      },
      "source": [
        "We see that our dataset deals with transactions in 2016. "
      ]
    },
    {
      "cell_type": "markdown",
      "metadata": {
        "id": "RWvqIMdLvMgX"
      },
      "source": [
        "#### Date of Birth"
      ]
    },
    {
      "cell_type": "code",
      "execution_count": 2,
      "metadata": {
        "id": "p9BkM5_yvaRY",
        "colab": {
          "base_uri": "https://localhost:8080/",
          "height": 182
        },
        "outputId": "81ba03cc-7c3a-47a0-d03a-f6bf446b8ebc"
      },
      "outputs": [
        {
          "output_type": "error",
          "ename": "NameError",
          "evalue": "ignored",
          "traceback": [
            "\u001b[0;31m---------------------------------------------------------------------------\u001b[0m",
            "\u001b[0;31mNameError\u001b[0m                                 Traceback (most recent call last)",
            "\u001b[0;32m<ipython-input-2-9e0777d92455>\u001b[0m in \u001b[0;36m<module>\u001b[0;34m\u001b[0m\n\u001b[1;32m      1\u001b[0m \u001b[0;31m#we want the date to be of datetime type\u001b[0m\u001b[0;34m\u001b[0m\u001b[0;34m\u001b[0m\u001b[0;34m\u001b[0m\u001b[0m\n\u001b[0;32m----> 2\u001b[0;31m \u001b[0mcustomer_data\u001b[0m\u001b[0;34m[\u001b[0m\u001b[0;34m'CustomerDOB'\u001b[0m\u001b[0;34m]\u001b[0m \u001b[0;34m=\u001b[0m \u001b[0mpd\u001b[0m\u001b[0;34m.\u001b[0m\u001b[0mto_datetime\u001b[0m\u001b[0;34m(\u001b[0m\u001b[0mcustomer_data\u001b[0m\u001b[0;34m.\u001b[0m\u001b[0mCustomerDOB\u001b[0m\u001b[0;34m)\u001b[0m\u001b[0;34m\u001b[0m\u001b[0;34m\u001b[0m\u001b[0m\n\u001b[0m",
            "\u001b[0;31mNameError\u001b[0m: name 'pd' is not defined"
          ]
        }
      ],
      "source": [
        "#we want the date to be of datetime type\n",
        "customer_data['CustomerDOB'] = pd.to_datetime(customer_data.CustomerDOB)"
      ]
    },
    {
      "cell_type": "code",
      "execution_count": null,
      "metadata": {
        "id": "ADa0Dphny1KI"
      },
      "outputs": [],
      "source": [
        "customer_data.CustomerDOB.dt.year.hist(bins= 50)"
      ]
    },
    {
      "cell_type": "code",
      "execution_count": null,
      "metadata": {
        "id": "Lk9u4JBt0UDP"
      },
      "outputs": [],
      "source": [
        "customer_data.loc[customer_data.CustomerDOB.dt.year == 1800, 'CustomerDOB']"
      ]
    },
    {
      "cell_type": "code",
      "execution_count": null,
      "metadata": {
        "id": "Np0OGGp_1BdS"
      },
      "outputs": [],
      "source": [
        "customer_data.loc[customer_data.CustomerDOB.dt.year > 2016, 'CustomerDOB'].sort_values()"
      ]
    },
    {
      "cell_type": "markdown",
      "metadata": {
        "id": "iXExwyS7y76q"
      },
      "source": [
        "\n",
        "the DOB in 1800 have the same exact date, unlike the successive DOB, so maybe it is better to correct them with different approaches:\n",
        "- for DOB > 2016  simply subtract 100 years in order to assign a likely date of birth. Of course this represents an issue for finding similar customers, but better than dropping all the information related to these transactions. \n",
        "- for DOB = **1800-01-01**  need to replace the date of birth with the customer resulting the most similar to the customers whos DOB is wrong. "
      ]
    },
    {
      "cell_type": "code",
      "execution_count": null,
      "metadata": {
        "id": "8WDJqSxEy0dZ"
      },
      "outputs": [],
      "source": [
        "customer_data.loc[customer_data.CustomerDOB.dt.year > 2016, 'CustomerDOB'] = customer_data.loc[customer_data.CustomerDOB.dt.year > 2016, 'CustomerDOB'] - pd.DateOffset(years = 100)"
      ]
    },
    {
      "cell_type": "code",
      "execution_count": null,
      "metadata": {
        "id": "JxIHxx-K7zg4"
      },
      "outputs": [],
      "source": [
        "customer_data.loc[customer_data.CustomerDOB.dt.year > 2016, 'CustomerDOB'].count()"
      ]
    },
    {
      "cell_type": "markdown",
      "metadata": {
        "id": "ZZSOY9iI8Iha"
      },
      "source": [
        " The chosen date of birth chosen for all these transactions will be the DOB of the customer having these common features.  "
      ]
    },
    {
      "cell_type": "code",
      "execution_count": null,
      "metadata": {
        "id": "eFmhPfc98S0K"
      },
      "outputs": [],
      "source": [
        "#dataframe containing only the data with the wrong date of birth\n",
        "#This dataframe will help us finding similar behaviors among the customers\n",
        "sub_data = customer_data.loc[customer_data.CustomerDOB.dt.year == 1800]"
      ]
    },
    {
      "cell_type": "markdown",
      "metadata": {
        "id": "RO7etQ4__XON"
      },
      "source": [
        "For the majority, the wrong date are related to male customers. "
      ]
    },
    {
      "cell_type": "code",
      "execution_count": null,
      "metadata": {
        "id": "_NRd2zYh9Bx4"
      },
      "outputs": [],
      "source": [
        "sub_data.CustAccountBalance.mean()"
      ]
    },
    {
      "cell_type": "code",
      "execution_count": null,
      "metadata": {
        "id": "UxQ1eCBSEbm2"
      },
      "outputs": [],
      "source": [
        "sub_data.CustLocation.value_counts()\n"
      ]
    },
    {
      "cell_type": "code",
      "execution_count": null,
      "metadata": {
        "id": "MrpdrGf0-eAC"
      },
      "outputs": [],
      "source": [
        "sub_data['TransactionAmount (INR)'].value_counts()"
      ]
    },
    {
      "cell_type": "markdown",
      "metadata": {
        "id": "YGe1SXXW8D7f"
      },
      "source": [
        "a male customer, located in New Delhi, with a transaction amount of 1000. "
      ]
    },
    {
      "cell_type": "code",
      "execution_count": null,
      "metadata": {
        "id": "NY97yjXpFoRD"
      },
      "outputs": [],
      "source": [
        "#create the dataframe containing the info we need\n",
        "sub_data1 = customer_data[customer_data['CustAccountBalance'] >= 268667 ][customer_data['CustLocation'] == 'NEW DELHI'][customer_data['TransactionAmount (INR)'] == 1000][customer_data['CustGender'] == 'M']"
      ]
    },
    {
      "cell_type": "code",
      "execution_count": null,
      "metadata": {
        "id": "p1D5eYwXjLeY"
      },
      "outputs": [],
      "source": [
        "#we want to keep only correct data\n",
        "sub_data1 = sub_data1[sub_data1['CustomerDOB'] != '1800-01-01' ]"
      ]
    },
    {
      "cell_type": "code",
      "execution_count": null,
      "metadata": {
        "id": "qQWdG6Eqj_RL"
      },
      "outputs": [],
      "source": [
        "sub_data1.sort_values(by = 'CustAccountBalance')"
      ]
    },
    {
      "cell_type": "markdown",
      "metadata": {
        "id": "S0h-u9gfkVHs"
      },
      "source": [
        "The customer that is most similar to the mean of customers whose date of birth is wrong is the first one. We can compare, for instance, the bar plots"
      ]
    },
    {
      "cell_type": "markdown",
      "metadata": {
        "id": "TmWeMV38lDxQ"
      },
      "source": [
        " replace the date **1800-01-01** with **1981-11-09**\t"
      ]
    },
    {
      "cell_type": "code",
      "execution_count": null,
      "metadata": {
        "id": "7_JCrZKnlDDD"
      },
      "outputs": [],
      "source": [
        "data1 = customer_data.replace(['1800-01-01'], '1981-11-09' )"
      ]
    },
    {
      "cell_type": "code",
      "execution_count": null,
      "metadata": {
        "id": "4y7O3dV9tLD2"
      },
      "outputs": [],
      "source": [
        "data1.reset_index(drop=True, inplace = True)"
      ]
    },
    {
      "cell_type": "code",
      "execution_count": null,
      "metadata": {
        "id": "cnO-zYY9op_P"
      },
      "outputs": [],
      "source": [
        "data1['CustomerDOB'] = pd.to_datetime(data1['CustomerDOB'])"
      ]
    },
    {
      "cell_type": "code",
      "execution_count": null,
      "metadata": {
        "id": "ZPR3f_NkosRr"
      },
      "outputs": [],
      "source": [
        "data1.CustomerDOB.hist(bins = 50)"
      ]
    },
    {
      "cell_type": "markdown",
      "metadata": {
        "id": "tjcRHnl3s4Ua"
      },
      "source": [
        "Now the distribution of birthdays makes sense. As we expected, there is a peak in 1981. However, this shouldn't compromise the hashing procedure. "
      ]
    },
    {
      "cell_type": "markdown",
      "metadata": {
        "id": "KHVTmoC7v9lL"
      },
      "source": [
        "#### Transaction Time"
      ]
    },
    {
      "cell_type": "code",
      "execution_count": null,
      "metadata": {
        "id": "KwYjIegvymnF"
      },
      "outputs": [],
      "source": [
        "from datetime import datetime"
      ]
    },
    {
      "cell_type": "code",
      "execution_count": null,
      "metadata": {
        "id": "0W5bEywcyiVU"
      },
      "outputs": [],
      "source": [
        "#Transaction time is not in the format we want\n",
        "data1['TransactionTime'] = data1.TransactionTime.apply(lambda row: datetime.strptime(str(row).zfill(6), '%H%M%S'))"
      ]
    },
    {
      "cell_type": "code",
      "execution_count": null,
      "metadata": {
        "colab": {
          "base_uri": "https://localhost:8080/"
        },
        "id": "ul9l4rR08ebo",
        "outputId": "d1bcaea4-775d-48c2-e0e3-43b6c69efbe3"
      },
      "outputs": [
        {
          "data": {
            "text/plain": [
              "0         01:12:29\n",
              "1         20:44:09\n",
              "2         22:03:05\n",
              "3         17:02:54\n",
              "4         14:11:03\n",
              "            ...   \n",
              "879354    00:51:22\n",
              "879355    12:02:55\n",
              "879356    12:25:33\n",
              "879357    21:37:22\n",
              "879358    22:57:32\n",
              "Name: TransactionTime, Length: 879359, dtype: object"
            ]
          },
          "execution_count": 42,
          "metadata": {},
          "output_type": "execute_result"
        }
      ],
      "source": [
        "data1.TransactionTime.dt.time"
      ]
    },
    {
      "cell_type": "markdown",
      "metadata": {
        "id": "NlEQmk5stmPs"
      },
      "source": [
        "#### Transaction Date"
      ]
    },
    {
      "cell_type": "code",
      "execution_count": null,
      "metadata": {
        "id": "GnZuop4itlyP"
      },
      "outputs": [],
      "source": [
        "data1['TransactionDate'] = pd.to_datetime(data1.TransactionDate)"
      ]
    },
    {
      "cell_type": "markdown",
      "metadata": {
        "id": "uWBj41V2vGfg"
      },
      "source": [
        "# 1.Finding Similar Costumers"
      ]
    },
    {
      "cell_type": "markdown",
      "metadata": {
        "id": "kEq8ZLj4vc6D"
      },
      "source": [
        "## 1.1 Set up the data"
      ]
    },
    {
      "cell_type": "code",
      "execution_count": null,
      "metadata": {
        "colab": {
          "base_uri": "https://localhost:8080/",
          "height": 679
        },
        "id": "IzMAG3L_vKRA",
        "outputId": "f5d36c14-1a9d-406a-e973-97a1ae75bd34"
      },
      "outputs": [
        {
          "data": {
            "text/html": [
              "\n",
              "  <div id=\"df-244408b3-10fb-4b44-ae10-8ceb6bd72de7\">\n",
              "    <div class=\"colab-df-container\">\n",
              "      <div>\n",
              "<style scoped>\n",
              "    .dataframe tbody tr th:only-of-type {\n",
              "        vertical-align: middle;\n",
              "    }\n",
              "\n",
              "    .dataframe tbody tr th {\n",
              "        vertical-align: top;\n",
              "    }\n",
              "\n",
              "    .dataframe thead th {\n",
              "        text-align: right;\n",
              "    }\n",
              "</style>\n",
              "<table border=\"1\" class=\"dataframe\">\n",
              "  <thead>\n",
              "    <tr style=\"text-align: right;\">\n",
              "      <th></th>\n",
              "      <th>CustomerDOB</th>\n",
              "      <th>CustGender</th>\n",
              "      <th>CustLocation</th>\n",
              "      <th>CustAccountBalance</th>\n",
              "      <th>TransactionDate</th>\n",
              "      <th>TransactionTime</th>\n",
              "      <th>TransactionAmount (INR)</th>\n",
              "    </tr>\n",
              "  </thead>\n",
              "  <tbody>\n",
              "    <tr>\n",
              "      <th>0</th>\n",
              "      <td>1983-05-08</td>\n",
              "      <td>M</td>\n",
              "      <td>NEW DELHI</td>\n",
              "      <td>120180.54</td>\n",
              "      <td>2016-09-08</td>\n",
              "      <td>1900-01-01 01:12:29</td>\n",
              "      <td>356.0</td>\n",
              "    </tr>\n",
              "    <tr>\n",
              "      <th>1</th>\n",
              "      <td>1994-07-28</td>\n",
              "      <td>M</td>\n",
              "      <td>MUMBAI</td>\n",
              "      <td>24204.49</td>\n",
              "      <td>2016-08-14</td>\n",
              "      <td>1900-01-01 20:44:09</td>\n",
              "      <td>1499.0</td>\n",
              "    </tr>\n",
              "    <tr>\n",
              "      <th>2</th>\n",
              "      <td>1984-08-19</td>\n",
              "      <td>M</td>\n",
              "      <td>MUMBAI</td>\n",
              "      <td>161848.76</td>\n",
              "      <td>2016-07-08</td>\n",
              "      <td>1900-01-01 22:03:05</td>\n",
              "      <td>250.0</td>\n",
              "    </tr>\n",
              "    <tr>\n",
              "      <th>3</th>\n",
              "      <td>1990-05-29</td>\n",
              "      <td>F</td>\n",
              "      <td>CHAMPARAN</td>\n",
              "      <td>496.18</td>\n",
              "      <td>2016-09-15</td>\n",
              "      <td>1900-01-01 17:02:54</td>\n",
              "      <td>30.0</td>\n",
              "    </tr>\n",
              "    <tr>\n",
              "      <th>4</th>\n",
              "      <td>1965-06-21</td>\n",
              "      <td>M</td>\n",
              "      <td>KOLKATA</td>\n",
              "      <td>87058.65</td>\n",
              "      <td>2016-08-18</td>\n",
              "      <td>1900-01-01 14:11:03</td>\n",
              "      <td>5000.0</td>\n",
              "    </tr>\n",
              "    <tr>\n",
              "      <th>...</th>\n",
              "      <td>...</td>\n",
              "      <td>...</td>\n",
              "      <td>...</td>\n",
              "      <td>...</td>\n",
              "      <td>...</td>\n",
              "      <td>...</td>\n",
              "      <td>...</td>\n",
              "    </tr>\n",
              "    <tr>\n",
              "      <th>879354</th>\n",
              "      <td>1990-12-24</td>\n",
              "      <td>M</td>\n",
              "      <td>BHIWANDI</td>\n",
              "      <td>133067.23</td>\n",
              "      <td>2016-07-08</td>\n",
              "      <td>1900-01-01 00:51:22</td>\n",
              "      <td>691.0</td>\n",
              "    </tr>\n",
              "    <tr>\n",
              "      <th>879355</th>\n",
              "      <td>1996-09-06</td>\n",
              "      <td>M</td>\n",
              "      <td>BANGALORE</td>\n",
              "      <td>96063.46</td>\n",
              "      <td>2016-09-15</td>\n",
              "      <td>1900-01-01 12:02:55</td>\n",
              "      <td>222.0</td>\n",
              "    </tr>\n",
              "    <tr>\n",
              "      <th>879356</th>\n",
              "      <td>1993-10-21</td>\n",
              "      <td>M</td>\n",
              "      <td>GUNTUR</td>\n",
              "      <td>5559.75</td>\n",
              "      <td>2016-08-18</td>\n",
              "      <td>1900-01-01 12:25:33</td>\n",
              "      <td>126.0</td>\n",
              "    </tr>\n",
              "    <tr>\n",
              "      <th>879357</th>\n",
              "      <td>1995-04-22</td>\n",
              "      <td>M</td>\n",
              "      <td>CHENNAI</td>\n",
              "      <td>35295.92</td>\n",
              "      <td>2016-08-28</td>\n",
              "      <td>1900-01-01 21:37:22</td>\n",
              "      <td>50.0</td>\n",
              "    </tr>\n",
              "    <tr>\n",
              "      <th>879358</th>\n",
              "      <td>1982-11-09</td>\n",
              "      <td>M</td>\n",
              "      <td>MUSSOORIE</td>\n",
              "      <td>6968.93</td>\n",
              "      <td>2016-09-25</td>\n",
              "      <td>1900-01-01 22:57:32</td>\n",
              "      <td>855.0</td>\n",
              "    </tr>\n",
              "  </tbody>\n",
              "</table>\n",
              "<p>879359 rows × 7 columns</p>\n",
              "</div>\n",
              "      <button class=\"colab-df-convert\" onclick=\"convertToInteractive('df-244408b3-10fb-4b44-ae10-8ceb6bd72de7')\"\n",
              "              title=\"Convert this dataframe to an interactive table.\"\n",
              "              style=\"display:none;\">\n",
              "        \n",
              "  <svg xmlns=\"http://www.w3.org/2000/svg\" height=\"24px\"viewBox=\"0 0 24 24\"\n",
              "       width=\"24px\">\n",
              "    <path d=\"M0 0h24v24H0V0z\" fill=\"none\"/>\n",
              "    <path d=\"M18.56 5.44l.94 2.06.94-2.06 2.06-.94-2.06-.94-.94-2.06-.94 2.06-2.06.94zm-11 1L8.5 8.5l.94-2.06 2.06-.94-2.06-.94L8.5 2.5l-.94 2.06-2.06.94zm10 10l.94 2.06.94-2.06 2.06-.94-2.06-.94-.94-2.06-.94 2.06-2.06.94z\"/><path d=\"M17.41 7.96l-1.37-1.37c-.4-.4-.92-.59-1.43-.59-.52 0-1.04.2-1.43.59L10.3 9.45l-7.72 7.72c-.78.78-.78 2.05 0 2.83L4 21.41c.39.39.9.59 1.41.59.51 0 1.02-.2 1.41-.59l7.78-7.78 2.81-2.81c.8-.78.8-2.07 0-2.86zM5.41 20L4 18.59l7.72-7.72 1.47 1.35L5.41 20z\"/>\n",
              "  </svg>\n",
              "      </button>\n",
              "      \n",
              "  <style>\n",
              "    .colab-df-container {\n",
              "      display:flex;\n",
              "      flex-wrap:wrap;\n",
              "      gap: 12px;\n",
              "    }\n",
              "\n",
              "    .colab-df-convert {\n",
              "      background-color: #E8F0FE;\n",
              "      border: none;\n",
              "      border-radius: 50%;\n",
              "      cursor: pointer;\n",
              "      display: none;\n",
              "      fill: #1967D2;\n",
              "      height: 32px;\n",
              "      padding: 0 0 0 0;\n",
              "      width: 32px;\n",
              "    }\n",
              "\n",
              "    .colab-df-convert:hover {\n",
              "      background-color: #E2EBFA;\n",
              "      box-shadow: 0px 1px 2px rgba(60, 64, 67, 0.3), 0px 1px 3px 1px rgba(60, 64, 67, 0.15);\n",
              "      fill: #174EA6;\n",
              "    }\n",
              "\n",
              "    [theme=dark] .colab-df-convert {\n",
              "      background-color: #3B4455;\n",
              "      fill: #D2E3FC;\n",
              "    }\n",
              "\n",
              "    [theme=dark] .colab-df-convert:hover {\n",
              "      background-color: #434B5C;\n",
              "      box-shadow: 0px 1px 3px 1px rgba(0, 0, 0, 0.15);\n",
              "      filter: drop-shadow(0px 1px 2px rgba(0, 0, 0, 0.3));\n",
              "      fill: #FFFFFF;\n",
              "    }\n",
              "  </style>\n",
              "\n",
              "      <script>\n",
              "        const buttonEl =\n",
              "          document.querySelector('#df-244408b3-10fb-4b44-ae10-8ceb6bd72de7 button.colab-df-convert');\n",
              "        buttonEl.style.display =\n",
              "          google.colab.kernel.accessAllowed ? 'block' : 'none';\n",
              "\n",
              "        async function convertToInteractive(key) {\n",
              "          const element = document.querySelector('#df-244408b3-10fb-4b44-ae10-8ceb6bd72de7');\n",
              "          const dataTable =\n",
              "            await google.colab.kernel.invokeFunction('convertToInteractive',\n",
              "                                                     [key], {});\n",
              "          if (!dataTable) return;\n",
              "\n",
              "          const docLinkHtml = 'Like what you see? Visit the ' +\n",
              "            '<a target=\"_blank\" href=https://colab.research.google.com/notebooks/data_table.ipynb>data table notebook</a>'\n",
              "            + ' to learn more about interactive tables.';\n",
              "          element.innerHTML = '';\n",
              "          dataTable['output_type'] = 'display_data';\n",
              "          await google.colab.output.renderOutput(dataTable, element);\n",
              "          const docLink = document.createElement('div');\n",
              "          docLink.innerHTML = docLinkHtml;\n",
              "          element.appendChild(docLink);\n",
              "        }\n",
              "      </script>\n",
              "    </div>\n",
              "  </div>\n",
              "  "
            ],
            "text/plain": [
              "       CustomerDOB CustGender CustLocation  CustAccountBalance  \\\n",
              "0       1983-05-08          M    NEW DELHI           120180.54   \n",
              "1       1994-07-28          M       MUMBAI            24204.49   \n",
              "2       1984-08-19          M       MUMBAI           161848.76   \n",
              "3       1990-05-29          F    CHAMPARAN              496.18   \n",
              "4       1965-06-21          M      KOLKATA            87058.65   \n",
              "...            ...        ...          ...                 ...   \n",
              "879354  1990-12-24          M     BHIWANDI           133067.23   \n",
              "879355  1996-09-06          M    BANGALORE            96063.46   \n",
              "879356  1993-10-21          M       GUNTUR             5559.75   \n",
              "879357  1995-04-22          M      CHENNAI            35295.92   \n",
              "879358  1982-11-09          M    MUSSOORIE             6968.93   \n",
              "\n",
              "       TransactionDate     TransactionTime  TransactionAmount (INR)  \n",
              "0           2016-09-08 1900-01-01 01:12:29                    356.0  \n",
              "1           2016-08-14 1900-01-01 20:44:09                   1499.0  \n",
              "2           2016-07-08 1900-01-01 22:03:05                    250.0  \n",
              "3           2016-09-15 1900-01-01 17:02:54                     30.0  \n",
              "4           2016-08-18 1900-01-01 14:11:03                   5000.0  \n",
              "...                ...                 ...                      ...  \n",
              "879354      2016-07-08 1900-01-01 00:51:22                    691.0  \n",
              "879355      2016-09-15 1900-01-01 12:02:55                    222.0  \n",
              "879356      2016-08-18 1900-01-01 12:25:33                    126.0  \n",
              "879357      2016-08-28 1900-01-01 21:37:22                     50.0  \n",
              "879358      2016-09-25 1900-01-01 22:57:32                    855.0  \n",
              "\n",
              "[879359 rows x 7 columns]"
            ]
          },
          "execution_count": 45,
          "metadata": {},
          "output_type": "execute_result"
        }
      ],
      "source": [
        "#the dataset we are going to use has been already prepared\n",
        "data1"
      ]
    },
    {
      "cell_type": "code",
      "execution_count": null,
      "metadata": {
        "colab": {
          "base_uri": "https://localhost:8080/"
        },
        "id": "wQOeVYwek9CF",
        "outputId": "1ab03d21-355a-48b3-c51f-e4d95ad18560"
      },
      "outputs": [
        {
          "data": {
            "text/plain": [
              "<function BufferedWriter.close>"
            ]
          },
          "execution_count": 46,
          "metadata": {},
          "output_type": "execute_result"
        }
      ],
      "source": [
        "import pickle\n",
        "with open('clean_df.pkl', 'wb') as f:\n",
        "  pickle.dump(data1, f)\n",
        "f.close"
      ]
    },
    {
      "cell_type": "markdown",
      "metadata": {
        "id": "lsXmgcnCvqRD"
      },
      "source": [
        "## 1.2 Fingerprint hashing"
      ]
    },
    {
      "cell_type": "markdown",
      "metadata": {
        "id": "FXybVBdqv6Fu"
      },
      "source": [
        "*1. Implement your minhash function from scratch*"
      ]
    },
    {
      "cell_type": "markdown",
      "metadata": {
        "id": "-fjI5NwP6BC-"
      },
      "source": [
        "#### STEP 1: Feature discretization"
      ]
    },
    {
      "cell_type": "markdown",
      "metadata": {
        "id": "44p3xmLjganp"
      },
      "source": [
        "The features to discretize are: \n",
        "- the balance of the customer\n",
        "- the period of the year (retrieved from the TransactionDate column)\n",
        "- the period of the day (retrieved from the TransactionTime column)\n",
        "- the amount of the transaction\n",
        "- the age of the customer \n"
      ]
    },
    {
      "cell_type": "markdown",
      "source": [
        "- **Customer balance**"
      ],
      "metadata": {
        "id": "8_UlG2V7YZWI"
      }
    },
    {
      "cell_type": "code",
      "execution_count": 1,
      "metadata": {
        "id": "LpLuRmbvVneN"
      },
      "outputs": [],
      "source": [
        "from sklearn.preprocessing import KBinsDiscretizer\n",
        "import pandas as pd"
      ]
    },
    {
      "cell_type": "code",
      "execution_count": 2,
      "metadata": {
        "id": "ZsJU7Y1cgaVv"
      },
      "outputs": [],
      "source": [
        "#balance account\n",
        "balance = KBinsDiscretizer(n_bins = 4, encode = 'ordinal', strategy = 'quantile')"
      ]
    },
    {
      "cell_type": "code",
      "execution_count": 3,
      "metadata": {
        "colab": {
          "base_uri": "https://localhost:8080/",
          "height": 165
        },
        "id": "yUWia2ESj3qd",
        "outputId": "65902d89-5265-4af9-95d9-03e050bd63f6"
      },
      "outputs": [
        {
          "output_type": "error",
          "ename": "NameError",
          "evalue": "ignored",
          "traceback": [
            "\u001b[0;31m---------------------------------------------------------------------------\u001b[0m",
            "\u001b[0;31mNameError\u001b[0m                                 Traceback (most recent call last)",
            "\u001b[0;32m<ipython-input-3-a0148be1465d>\u001b[0m in \u001b[0;36m<module>\u001b[0;34m\u001b[0m\n\u001b[0;32m----> 1\u001b[0;31m \u001b[0mbalance\u001b[0m\u001b[0;34m.\u001b[0m\u001b[0mfit\u001b[0m\u001b[0;34m(\u001b[0m\u001b[0mdata1\u001b[0m\u001b[0;34m.\u001b[0m\u001b[0mCustAccountBalance\u001b[0m\u001b[0;34m.\u001b[0m\u001b[0mto_numpy\u001b[0m\u001b[0;34m(\u001b[0m\u001b[0;34m)\u001b[0m\u001b[0;34m.\u001b[0m\u001b[0mreshape\u001b[0m\u001b[0;34m(\u001b[0m\u001b[0;34m-\u001b[0m\u001b[0;36m1\u001b[0m\u001b[0;34m,\u001b[0m\u001b[0;36m1\u001b[0m\u001b[0;34m)\u001b[0m\u001b[0;34m)\u001b[0m\u001b[0;34m\u001b[0m\u001b[0;34m\u001b[0m\u001b[0m\n\u001b[0m",
            "\u001b[0;31mNameError\u001b[0m: name 'data1' is not defined"
          ]
        }
      ],
      "source": [
        "balance.fit(data1.CustAccountBalance.to_numpy().reshape(-1,1))"
      ]
    },
    {
      "cell_type": "code",
      "execution_count": null,
      "metadata": {
        "id": "zlCoFUwrkC6c"
      },
      "outputs": [],
      "source": [
        "data1['discrete_balance'] = balance.transform(data1.CustAccountBalance.to_numpy().reshape(-1,1))"
      ]
    },
    {
      "cell_type": "code",
      "execution_count": null,
      "metadata": {
        "id": "6l5O-BzZknJN"
      },
      "outputs": [],
      "source": [
        "data1.discrete_balance.value_counts()\n"
      ]
    },
    {
      "cell_type": "code",
      "execution_count": null,
      "metadata": {
        "id": "k9k-FovKkqBo"
      },
      "outputs": [],
      "source": [
        "print('min_class 0:', data1.loc[data1['discrete_balance'] == 0.0, 'CustAccountBalance'].min())\n",
        "print('max_class 0:', data1.loc[data1['discrete_balance'] == 0.0, 'CustAccountBalance'].max())\n",
        "print('min_class 1:', data1.loc[data1['discrete_balance'] == 1.0, 'CustAccountBalance'].min())\n",
        "print('max_class 1:', data1.loc[data1['discrete_balance'] == 1.0, 'CustAccountBalance'].max())\n",
        "print('min_class 2:', data1.loc[data1['discrete_balance'] == 2.0, 'CustAccountBalance'].min())\n",
        "print('max_class 2:', data1.loc[data1['discrete_balance'] == 2.0, 'CustAccountBalance'].max())\n",
        "print('min_class 3:', data1.loc[data1['discrete_balance'] == 3.0, 'CustAccountBalance'].min())\n",
        "print('max_class 3:', data1.loc[data1['discrete_balance'] == 3.0, 'CustAccountBalance'].max())\n"
      ]
    },
    {
      "cell_type": "markdown",
      "metadata": {
        "id": "33FDOL3wn_dn"
      },
      "source": [
        " split the account balances in 4 bins 0, 1, 2 and 3, from the lowest to the greatest balances. "
      ]
    },
    {
      "cell_type": "markdown",
      "metadata": {
        "id": "KYSOmUuWodBH"
      },
      "source": [
        "The function is useful but in practice we can't use it for each feature. As a matter of fact, there is no way to give labels to bins. To avoid ambiguity among shingles we use another method. "
      ]
    },
    {
      "cell_type": "markdown",
      "source": [
        "- **Period of the Year**"
      ],
      "metadata": {
        "id": "Ky2DduToYoDJ"
      }
    },
    {
      "cell_type": "markdown",
      "metadata": {
        "id": "bwXhZd1vE4qg"
      },
      "source": [
        "For what concern the transaction date it is not interesting to keep all the info for finding similar customers. Two customers can be related if they do transactions in the same period of the year, so we can consider for example the month of the transaction (e.g. customers buying something during Christmas are considered similar). \n",
        "Also for the transaction time the reasoning is similar: we keep only the transaction hour. \n"
      ]
    },
    {
      "cell_type": "code",
      "execution_count": null,
      "metadata": {
        "id": "QyZl4L1hrm2X"
      },
      "outputs": [],
      "source": [
        "data1.columns"
      ]
    },
    {
      "cell_type": "code",
      "execution_count": null,
      "metadata": {
        "id": "80uLEUNymOov"
      },
      "outputs": [],
      "source": [
        "#period of the year\n",
        "labels = ['Jan-Mar', 'Apr-Jun', 'Jul-Sept', 'Oct-Dec']\n",
        "data1['period_year'] = pd.cut(data1['TransactionDate'].dt.month,  4, labels = labels)"
      ]
    },
    {
      "cell_type": "code",
      "execution_count": null,
      "metadata": {
        "id": "pUxzS0Ck6_je"
      },
      "outputs": [],
      "source": [
        "data1.period_year.value_counts()"
      ]
    },
    {
      "cell_type": "code",
      "execution_count": null,
      "metadata": {
        "id": "RXQ5F_DP8Xp3"
      },
      "outputs": [],
      "source": [
        "data1.loc[data1['period_year']=='Oct-Dec', 'TransactionDate' ].dt.month.value_counts()"
      ]
    },
    {
      "cell_type": "markdown",
      "source": [
        "- **Period of the day**"
      ],
      "metadata": {
        "id": "IpCJm64wY4X1"
      }
    },
    {
      "cell_type": "code",
      "execution_count": null,
      "metadata": {
        "id": "945TisKU4_yi"
      },
      "outputs": [],
      "source": [
        "#period of the day\n",
        "labels = ['Night','Morning', 'Afternoon', 'Late evening']\n",
        "data1['period_day'] = pd.cut(data1['TransactionTime'].dt.hour, 4, labels = labels)"
      ]
    },
    {
      "cell_type": "code",
      "execution_count": null,
      "metadata": {
        "id": "5VCNJxSP9MvJ"
      },
      "outputs": [],
      "source": [
        "data1.loc[data1['period_day']=='Night', 'TransactionTime' ].dt.hour.value_counts()"
      ]
    },
    {
      "cell_type": "code",
      "execution_count": null,
      "metadata": {
        "id": "BFIFyB2-9a8-"
      },
      "outputs": [],
      "source": [
        "data1.period_day.value_counts()"
      ]
    },
    {
      "cell_type": "markdown",
      "source": [
        "- **Amount of the transaction**"
      ],
      "metadata": {
        "id": "1lf-ZKCdZNt-"
      }
    },
    {
      "cell_type": "code",
      "execution_count": null,
      "metadata": {
        "id": "fZCQXDV_9ucX"
      },
      "outputs": [],
      "source": [
        "data1['TransactionAmount (INR)'].describe()"
      ]
    },
    {
      "cell_type": "code",
      "execution_count": null,
      "metadata": {
        "id": "qLKM1A1j-wJB"
      },
      "outputs": [],
      "source": [
        "#amount of the transaction\n",
        "labels = ['Small','Medium', 'Big']\n",
        "data1['transaction_size'] = pd.qcut(data1['TransactionAmount (INR)'], q =3, labels = labels)"
      ]
    },
    {
      "cell_type": "code",
      "execution_count": null,
      "metadata": {
        "id": "GkUSHH-uAHAp"
      },
      "outputs": [],
      "source": [
        "data1.transaction_size.value_counts()"
      ]
    },
    {
      "cell_type": "code",
      "execution_count": null,
      "metadata": {
        "id": "33RVC_wOAQHF"
      },
      "outputs": [],
      "source": [
        "#Medium transactions\n",
        "data1.loc[data1['transaction_size']=='Medium', 'TransactionAmount (INR)' ].describe()"
      ]
    },
    {
      "cell_type": "code",
      "execution_count": null,
      "metadata": {
        "id": "MxhddigSAtxt"
      },
      "outputs": [],
      "source": [
        "#Small transactions\n",
        "data1.loc[data1['transaction_size']=='Small', 'TransactionAmount (INR)' ].describe()"
      ]
    },
    {
      "cell_type": "code",
      "execution_count": null,
      "metadata": {
        "id": "wgF9K5VVBEiD"
      },
      "outputs": [],
      "source": [
        "#Big transactions\n",
        "data1.loc[data1['transaction_size']=='Big', 'TransactionAmount (INR)' ].describe()"
      ]
    },
    {
      "cell_type": "markdown",
      "source": [
        "- **Customer Age**"
      ],
      "metadata": {
        "id": "tICJb5l4ZeLB"
      }
    },
    {
      "cell_type": "code",
      "execution_count": null,
      "metadata": {
        "id": "CsjM3JNPLta7"
      },
      "outputs": [],
      "source": [
        "data1['cust_age'] = 2016 - data1.CustomerDOB.dt.year "
      ]
    },
    {
      "cell_type": "code",
      "execution_count": null,
      "metadata": {
        "id": "W5SaJrPvMB4w"
      },
      "outputs": [],
      "source": [
        "data1.cust_age.value_counts()"
      ]
    },
    {
      "cell_type": "code",
      "execution_count": null,
      "metadata": {
        "id": "IDBUfDsg7QdN"
      },
      "outputs": [],
      "source": [
        "#we divide the customer age in groups \n",
        "def age_group(age):\n",
        "  if age in range(0, 12):\n",
        "    age_group = 'child'\n",
        "  elif age in range(13, 25):\n",
        "    age_group = 'teen-ager'\n",
        "  elif age in range(25, 50):\n",
        "    age_group = 'adult'\n",
        "  else:\n",
        "    age_group = 'old'\n",
        "  return age_group"
      ]
    },
    {
      "cell_type": "code",
      "execution_count": null,
      "metadata": {
        "id": "fyPYlEM18SWQ"
      },
      "outputs": [],
      "source": [
        "data1['age_group'] = data1.cust_age.apply(lambda x: age_group(x))"
      ]
    },
    {
      "cell_type": "code",
      "execution_count": null,
      "metadata": {
        "id": "jtEDJ2pH8n-n"
      },
      "outputs": [],
      "source": [
        "data1.age_group.value_counts()"
      ]
    },
    {
      "cell_type": "code",
      "source": [
        "with open('custom_df.pkl', 'wb') as f: \n",
        "  pickle.dump(data1, f)\n",
        "f.close"
      ],
      "metadata": {
        "id": "-PVgQrfEilm7"
      },
      "execution_count": null,
      "outputs": []
    },
    {
      "cell_type": "code",
      "source": [
        "import pickle\n",
        "with open('custom_df.pkl', 'rb') as f:\n",
        "  data1 = pickle.load(f)\n",
        "f.close"
      ],
      "metadata": {
        "id": "S5KU1DdYd8JL"
      },
      "execution_count": null,
      "outputs": []
    },
    {
      "cell_type": "code",
      "execution_count": null,
      "metadata": {
        "id": "S2ldjolQBRWb"
      },
      "outputs": [],
      "source": [
        "# Keep only discrete features\n",
        "discr_df = data1[['CustGender', 'CustLocation', 'discrete_balance', 'period_year', 'period_day', 'transaction_size', 'age_group' ]]"
      ]
    },
    {
      "cell_type": "code",
      "execution_count": null,
      "metadata": {
        "id": "Yhy-AcNYwJ67"
      },
      "outputs": [],
      "source": [
        "#create a pickle file containing the modified dataset\n",
        "import pickle\n",
        "with open('modified_df.pkl', 'wb') as f:\n",
        "    pickle.dump(discr_df, f)\n",
        "f.close"
      ]
    },
    {
      "cell_type": "code",
      "execution_count": null,
      "metadata": {
        "id": "PYJvAd7R2RoW"
      },
      "outputs": [],
      "source": [
        "import pickle\n",
        "with open('modified_df.pkl', 'rb') as f:\n",
        "  modified_df = pickle.load(f)\n",
        "f.close"
      ]
    },
    {
      "cell_type": "code",
      "execution_count": null,
      "metadata": {
        "id": "Awe9AtFQCX-q"
      },
      "outputs": [],
      "source": [
        "modified_df"
      ]
    },
    {
      "cell_type": "markdown",
      "metadata": {
        "id": "9GXu9c4YE7XG"
      },
      "source": [
        "We have 879359 rows. Through them i have to retrieve the \"shingles\", i.e. the unique values a customer can have."
      ]
    },
    {
      "cell_type": "markdown",
      "metadata": {
        "id": "ooCAN_UpFVAg"
      },
      "source": [
        "#### STEP 2: Find unique values"
      ]
    },
    {
      "cell_type": "code",
      "execution_count": null,
      "metadata": {
        "id": "IQWMc31WCZiJ"
      },
      "outputs": [],
      "source": [
        "all_unique_values = []\n",
        "for column in modified_df:\n",
        "  values = modified_df[column].unique().tolist()\n",
        "  set_values = set(values)\n",
        "  unique_values = list(set_values)\n",
        "  all_unique_values.append(unique_values)\n",
        "print(all_unique_values)"
      ]
    },
    {
      "cell_type": "code",
      "execution_count": null,
      "metadata": {
        "id": "G3e9WrZGGetJ"
      },
      "outputs": [],
      "source": [
        "unique_data = [x[i] for x in all_unique_values for i in range(len(x))]"
      ]
    },
    {
      "cell_type": "code",
      "execution_count": null,
      "metadata": {
        "id": "c1FxCqQDKMqT"
      },
      "outputs": [],
      "source": [
        "print('the number of unique unigrams is: ', len(unique_data))"
      ]
    },
    {
      "cell_type": "code",
      "execution_count": null,
      "metadata": {
        "id": "a8SS0Yr62AKq"
      },
      "outputs": [],
      "source": [
        "#we want the shingles not to be ordered\n",
        "import random\n",
        "random.shuffle(unique_data)"
      ]
    },
    {
      "cell_type": "code",
      "execution_count": null,
      "metadata": {
        "id": "oz6rqpyorR8X"
      },
      "outputs": [],
      "source": [
        "with open('shingles.pkl', 'wb') as f:\n",
        "    pickle.dump(unique_data, f)\n",
        "f.close"
      ]
    },
    {
      "cell_type": "markdown",
      "metadata": {
        "id": "SxInbyhb5GrK"
      },
      "source": [
        "#### STEP 3: Build the Characteristic matrix"
      ]
    },
    {
      "cell_type": "code",
      "execution_count": null,
      "metadata": {
        "id": "z5ewHOGnx8RN"
      },
      "outputs": [],
      "source": [
        "import pickle\n",
        "import numpy as np\n",
        "import pandas as pd"
      ]
    },
    {
      "cell_type": "code",
      "execution_count": null,
      "metadata": {
        "id": "nzuudvy5wXtI"
      },
      "outputs": [],
      "source": [
        "#open the pickle file\n",
        "with open('modified_df.pkl', 'rb') as f:\n",
        "    modified_df = pickle.load(f)\n",
        "f.close"
      ]
    },
    {
      "cell_type": "code",
      "source": [
        "#create characteristic matrix\n",
        "#we use the panda function pd.get_dummies, which convert categorical variable into dummy/indicator variables\n",
        "#for each categorical variable we create a row of the characteristic matrix \n",
        "gender = pd.get_dummies(modified_df['CustGender'])\n",
        "balance = pd.get_dummies(modified_df['discrete_balance'])\n",
        "months = pd.get_dummies(modified_df['period_year'])\n",
        "days = pd.get_dummies(modified_df['period_day'])\n",
        "size = pd.get_dummies(modified_df['transaction_size'])\n",
        "age = pd.get_dummies(modified_df['age_group'])\n"
      ],
      "metadata": {
        "id": "rbt-lbngdizQ"
      },
      "execution_count": null,
      "outputs": []
    },
    {
      "cell_type": "code",
      "source": [
        "char_matrix1 = np.concatenate([gender, balance, months, days, size, age], axis = 1) #horizontal_concat"
      ],
      "metadata": {
        "id": "qAq2HLUQkHe0"
      },
      "execution_count": null,
      "outputs": []
    },
    {
      "cell_type": "code",
      "source": [
        "char_matrix1"
      ],
      "metadata": {
        "id": "pwNeqcOybJeH"
      },
      "execution_count": null,
      "outputs": []
    },
    {
      "cell_type": "code",
      "source": [
        "char_m = np.transpose(char_matrix1)"
      ],
      "metadata": {
        "id": "GVOm5vURlUXz"
      },
      "execution_count": null,
      "outputs": []
    },
    {
      "cell_type": "code",
      "source": [
        "char_m.shape"
      ],
      "metadata": {
        "id": "A1ITAm9s6ISu"
      },
      "execution_count": null,
      "outputs": []
    },
    {
      "cell_type": "markdown",
      "metadata": {
        "id": "QM5T-rbNTxth"
      },
      "source": [
        "#### STEP 4: Create the Signature Matrix"
      ]
    },
    {
      "cell_type": "markdown",
      "metadata": {
        "id": "Bzfe-FXq67Ia"
      },
      "source": [
        "Instead of picking n random permutations of rows, we pick n randomly\n",
        "chosen hash functions $\\ h_1, h_2, . . . , h_n$ on the rows. i construct the signature\n",
        "matrix by considering each row in their given order. "
      ]
    },
    {
      "cell_type": "code",
      "execution_count": null,
      "metadata": {
        "id": "ThlkM2J7ah1V"
      },
      "outputs": [],
      "source": [
        "import random "
      ]
    },
    {
      "cell_type": "code",
      "execution_count": null,
      "metadata": {
        "id": "scBBXWDPG_gz"
      },
      "outputs": [],
      "source": [
        "#define a function to generate n hash function (for simulating the effect of th epermutations of the row of the characteristic matrix)\n",
        "def n_hash(row, n, p):  #p is the size of the hash table. Its value is the first prime number after the last shingle\n",
        "  hash_list = []\n",
        "  for _ in range(n):\n",
        "    h = random.randint(1, n)*(row) % p\n",
        "    hash_list.append(h)\n",
        "  return hash_list"
      ]
    },
    {
      "cell_type": "markdown",
      "metadata": {
        "id": "IUmByXx7f8fG"
      },
      "source": [
        "Now that i choose the hash functions we can construct the signature matrix. It will have as many rows as the number of hash functions. "
      ]
    },
    {
      "cell_type": "code",
      "execution_count": null,
      "metadata": {
        "id": "IdZr9wwfrOZi"
      },
      "outputs": [],
      "source": [
        "from tqdm import tqdm"
      ]
    },
    {
      "cell_type": "code",
      "execution_count": null,
      "metadata": {
        "id": "CHzNltWYlZCn"
      },
      "outputs": [],
      "source": [
        "import numpy as np"
      ]
    },
    {
      "cell_type": "code",
      "execution_count": null,
      "metadata": {
        "id": "D-SAvZQWjgzK"
      },
      "outputs": [],
      "source": [
        "#pre-allocate memory for the signature matrix\n",
        "signatures = np.matrix(np.ones((22, char_m.shape[1]))* np.inf)\n",
        "#the signature matrix has a shape (22, 879359) and every element is infinity"
      ]
    },
    {
      "cell_type": "code",
      "execution_count": null,
      "metadata": {
        "id": "ssEcjDljls0p"
      },
      "outputs": [],
      "source": [
        "signatures"
      ]
    },
    {
      "cell_type": "code",
      "execution_count": null,
      "metadata": {
        "id": "czKgXAt4dVNF"
      },
      "outputs": [],
      "source": [
        "#scan over the row of the caracteristic matrix\n",
        "for row in tqdm(range(char_m .shape[0])):\n",
        "  \n",
        "  hash_list = n_hash(row, 750, 757)  #we choose 750 hash functions #757 is the first prime number after 500\n",
        " \n",
        "\n",
        "  #slide over the columns of the characteristic matrix\n",
        "  for col in range(char_m.shape[1]): \n",
        "    if char_m[row, col] == 1:\n",
        "      #print(char_matrix[row, col])\n",
        "      #scan over the rows of the signature matrix\n",
        "      for i in range(signatures.shape[0]): \n",
        "        signatures[i, col] = min(hash_list[i],signatures[i, col])\n"
      ]
    },
    {
      "cell_type": "code",
      "source": [
        "signatures"
      ],
      "metadata": {
        "id": "NhDuy1E8s0Ei"
      },
      "execution_count": null,
      "outputs": []
    }
  ],
  "metadata": {
    "colab": {
      "provenance": [],
      "collapsed_sections": [
        "RWvqIMdLvMgX",
        "NlEQmk5stmPs"
      ]
    },
    "kernelspec": {
      "display_name": "Python 3",
      "name": "python3"
    },
    "language_info": {
      "name": "python"
    }
  },
  "nbformat": 4,
  "nbformat_minor": 0
}